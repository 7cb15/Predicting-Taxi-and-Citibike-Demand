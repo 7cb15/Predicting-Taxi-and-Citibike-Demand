{
 "cells": [
  {
   "cell_type": "code",
   "execution_count": 7,
   "metadata": {},
   "outputs": [],
   "source": [
    "import pandas as pd\n",
    "import numpy as np\n",
    "import os\n",
    "from urllib.request import urlretrieve\n",
    "import urllib.request as urllib\n",
    "import zipfile"
   ]
  },
  {
   "cell_type": "code",
   "execution_count": 2,
   "metadata": {},
   "outputs": [],
   "source": [
    "#grab citibike data zips from aws repo\n",
    "\n",
    "file_strings = ['201601-citibike-tripdata.zip','201602-citibike-tripdata.zip','201603-citibike-tripdata.zip',\n",
    "                '201604-citibike-tripdata.zip','201605-citibike-tripdata.zip','201606-citibike-tripdata.zip',\n",
    "               '201607-citibike-tripdata.zip','201608-citibike-tripdata.zip','201609-citibike-tripdata.zip',\n",
    "               '201610-citibike-tripdata.zip','201611-citibike-tripdata.zip','201612-citibike-tripdata.zip']\n",
    "\n",
    "url_base = 'https://s3.amazonaws.com/tripdata/'\n",
    "                \n",
    "for i in file_strings:\n",
    "    urlretrieve(url_base+i,i)\n"
   ]
  },
  {
   "cell_type": "code",
   "execution_count": 8,
   "metadata": {},
   "outputs": [
    {
     "data": {
      "text/plain": [
       "'/projects/ads_csd/shared/dat'"
      ]
     },
     "execution_count": 8,
     "metadata": {},
     "output_type": "execute_result"
    }
   ],
   "source": [
    "os.getcwd()+'/dat' #get cwd path for unzip step"
   ]
  },
  {
   "cell_type": "code",
   "execution_count": 9,
   "metadata": {},
   "outputs": [],
   "source": [
    "#unzip files and move to dat folder\n",
    "for i in file_strings:\n",
    "    with zipfile.ZipFile(i,\"r\") as zip_ref:\n",
    "        zip_ref.extractall(os.getcwd()+'/dat')"
   ]
  },
  {
   "cell_type": "code",
   "execution_count": 10,
   "metadata": {},
   "outputs": [],
   "source": [
    "#remove the zip files from the cwd\n",
    "for i in file_strings:\n",
    "    os.remove(i)"
   ]
  },
  {
   "cell_type": "code",
   "execution_count": null,
   "metadata": {},
   "outputs": [],
   "source": []
  }
 ],
 "metadata": {
  "kernelspec": {
   "display_name": "PUI2016_Python3",
   "language": "python",
   "name": "pui2016_python3"
  },
  "language_info": {
   "codemirror_mode": {
    "name": "ipython",
    "version": 3
   },
   "file_extension": ".py",
   "mimetype": "text/x-python",
   "name": "python",
   "nbconvert_exporter": "python",
   "pygments_lexer": "ipython3",
   "version": "3.5.4"
  }
 },
 "nbformat": 4,
 "nbformat_minor": 2
}
